{
 "cells": [
  {
   "cell_type": "markdown",
   "id": "d3dfdd5b",
   "metadata": {
    "tags": []
   },
   "source": [
    "# Безусловная оптимизация\n",
    "Для численного решения задачи $(loc)\\min f(x)$\n",
    "используем метод `minimize` из пакета `scipy` ([Документация)](https://docs.scipy.org/doc/scipy/tutorial/optimize.html#unconstrained-minimization-of-multivariate-scalar-functions-minimize))"
   ]
  },
  {
   "cell_type": "code",
   "execution_count": null,
   "id": "3502fdc6",
   "metadata": {
    "tags": []
   },
   "outputs": [],
   "source": [
    "import numpy as np\n",
    "from scipy.optimize import minimize"
   ]
  },
  {
   "cell_type": "markdown",
   "id": "68fedde3",
   "metadata": {},
   "source": [
    "## Nelder-Mead Simplex algorithm\n",
    "Для алгоритма необходимо только определить целевую функцию\n",
    "\n",
    "Рассмотрим задачу\n",
    "$$(loc) \\min (x^2+4y^2-2x-4y+10)$$\n",
    "Зададим целевую функцию, выберем начальное приближение $x_0=(1, 1)$, точность $1*10^{-8}$ (`tol`) и вызовем метод `minimize`"
   ]
  },
  {
   "cell_type": "code",
   "execution_count": null,
   "id": "4e204e9f",
   "metadata": {
    "tags": []
   },
   "outputs": [],
   "source": [
    "def f(x):\n",
    "    return x[0]**2+4*x[1]**2-2*x[0]-4*x[1]+10\n",
    "\n",
    "x0 = np.array([1, 1])\n",
    "\n",
    "res = minimize(f, x0, method='nelder-mead', tol=1e-8)\n",
    "res"
   ]
  },
  {
   "cell_type": "code",
   "execution_count": null,
   "id": "d132ec3b",
   "metadata": {
    "tags": []
   },
   "outputs": [],
   "source": [
    "# Оптимальное решение\n",
    "print(res.x)"
   ]
  },
  {
   "cell_type": "markdown",
   "id": "a9be8647",
   "metadata": {},
   "source": [
    "## Broyden-Fletcher-Goldfarb-Shanno algorithm\n",
    "Дла алгоритма нужно задать и целевую функцию, и её градиент\n",
    "\n",
    "Рассмотрим задачу\n",
    "$$\n",
    "    (loc)\\max(10+2x-2y-4x^2-y^2+2xy)\n",
    "$$\n",
    "**Важно**: т.к. метод `minimize` решает только задачу минимизации, будем решать задачу\n",
    "\\begin{align*}\n",
    "    (loc)\\min\\; & g & g&=-f=(-10-2x+2y+4x^2+y^2-2xy)\n",
    "\\end{align*}\n",
    "\n",
    "Градиент \n",
    "$$\n",
    "    \\nabla g=\\begin{pmatrix} -2+8x-2y\\\\ 2+2y-2x \\end{pmatrix}\n",
    "$$\n",
    "Зададим целевую функцию, её градиент, выберем начальное приближение $x_0=(1, 1)$, точность $1*10^{-8}$ (`tol`) и вызовем метод `minimize`"
   ]
  },
  {
   "cell_type": "code",
   "execution_count": null,
   "id": "383ffb16",
   "metadata": {},
   "outputs": [],
   "source": [
    "def g(x):\n",
    "    return -10-2*x[0]+2*x[1]+4*x[0]**2+x[1]**2-2*x[0]*x[1]\n",
    "def grad_g(x):\n",
    "    g_x = -2+8*x[0]-2*x[1]\n",
    "    g_y = 2+2*x[1]-2*x[0]\n",
    "    return np.array([g_x, g_y])\n",
    "\n",
    "x0 = np.array([1, 1])\n",
    "res = minimize(g, x0, method='BFGS', jac=grad_g, tol=1e-8)\n",
    "res"
   ]
  },
  {
   "cell_type": "markdown",
   "id": "e31f7de4",
   "metadata": {},
   "source": [
    "## Newton-Conjugate-Gradient algorithm\n",
    "Для алгоритма нужно задать целевую функцию, её градиент и гессиан\n",
    "\n",
    "Рассмотрим задачу\n",
    "$$\n",
    "    (loc)\\min (4x^2+y^2-4xy-4x-6y+10)\n",
    "$$\n",
    "Для целевой функции $h(x,y)=4x^2+y^2-2xy-4x-6y+10$ имеем\n",
    "\\begin{align*}\n",
    "    \\nabla h&=\\begin{pmatrix} 8x-2y-4 \\\\ 2y-2x-6 \\end{pmatrix} &\n",
    "    \\nabla^2 h&= \\begin{pmatrix} 8 & -2 \\\\ -2 & 2 \\end{pmatrix}\n",
    "\\end{align*}\n",
    "Зададим целевую функцию, её градиент и гессиан, выберем начальное приближение $x_0=(1, 1)$, точность $1*10^{-8}$ (`tol`) и вызовем метод `minimize`"
   ]
  },
  {
   "cell_type": "code",
   "execution_count": null,
   "id": "b33fb969",
   "metadata": {
    "tags": []
   },
   "outputs": [],
   "source": [
    "def h(x):\n",
    "    return 4*x[0]**2+x[1]**2-2*x[0]*x[1]-4*x[0]-6*x[1]+10\n",
    "def grad_h(x):\n",
    "    h_x = 8*x[0]-2*x[1]-4\n",
    "    h_y = 2*x[1]-2*x[0]-6\n",
    "    return np.array([h_x, h_y])\n",
    "def hess_h(x):\n",
    "    return np.array([[8, -2], [-2, 2]])\n",
    "\n",
    "x0 = np.array([1, 1])\n",
    "res = minimize(h, x0, method='Newton-CG', jac=grad_h, hess=hess_h, tol=1e-9)\n",
    "res"
   ]
  }
 ],
 "metadata": {
  "kernelspec": {
   "display_name": "Python 3 (ipykernel)",
   "language": "python",
   "name": "python3"
  },
  "language_info": {
   "codemirror_mode": {
    "name": "ipython",
    "version": 3
   },
   "file_extension": ".py",
   "mimetype": "text/x-python",
   "name": "python",
   "nbconvert_exporter": "python",
   "pygments_lexer": "ipython3",
   "version": "3.12.5"
  }
 },
 "nbformat": 4,
 "nbformat_minor": 5
}
