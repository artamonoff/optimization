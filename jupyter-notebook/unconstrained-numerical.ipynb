{
 "cells": [
  {
   "cell_type": "markdown",
   "id": "d3dfdd5b",
   "metadata": {},
   "source": [
    "# Безусловная оптимизация\n",
    "Для численного решения задачи $(loc)\\min f(x)$\n",
    "используем метод `minimize` из пакета `scipy`"
   ]
  },
  {
   "cell_type": "code",
   "execution_count": 1,
   "id": "3502fdc6",
   "metadata": {},
   "outputs": [],
   "source": [
    "import numpy as np\n",
    "from scipy.optimize import minimize"
   ]
  },
  {
   "cell_type": "markdown",
   "id": "68fedde3",
   "metadata": {},
   "source": [
    "## Nelder-Mead Simplex algorithm\n",
    "Для алгоритма необходимо только определить целевую функцию\n",
    "\n",
    "Рассмотрим задачу\n",
    "$$(loc) \\min (x^2+4y^2-2x-4y+10)$$\n",
    "Зададим целевую функцию "
   ]
  },
  {
   "cell_type": "code",
   "execution_count": 2,
   "id": "4e204e9f",
   "metadata": {},
   "outputs": [],
   "source": [
    "def f(x):\n",
    "    return x[0]**2+4*x[1]**2-2*x[0]-4*x[1]+10"
   ]
  },
  {
   "cell_type": "markdown",
   "id": "f764e42c",
   "metadata": {},
   "source": [
    "Выберем начальное приближение $x_0=(1, 1)$, точность $1*10^{-8}$ и вызовем метод `minimize` (`'disp':True` для вывода информации об итерациях)"
   ]
  },
  {
   "cell_type": "code",
   "execution_count": 3,
   "id": "6df692db",
   "metadata": {},
   "outputs": [
    {
     "name": "stdout",
     "output_type": "stream",
     "text": [
      "Optimization terminated successfully.\n",
      "         Current function value: 8.000000\n",
      "         Iterations: 62\n",
      "         Function evaluations: 128\n"
     ]
    },
    {
     "data": {
      "text/plain": [
       "       message: Optimization terminated successfully.\n",
       "       success: True\n",
       "        status: 0\n",
       "           fun: 8.0\n",
       "             x: [ 1.000e+00  5.000e-01]\n",
       "           nit: 62\n",
       "          nfev: 128\n",
       " final_simplex: (array([[ 1.000e+00,  5.000e-01],\n",
       "                       [ 1.000e+00,  5.000e-01],\n",
       "                       [ 1.000e+00,  5.000e-01]]), array([ 8.000e+00,  8.000e+00,  8.000e+00]))"
      ]
     },
     "execution_count": 3,
     "metadata": {},
     "output_type": "execute_result"
    }
   ],
   "source": [
    "x0 = np.array([1, 1])\n",
    "res = minimize(f, x0, method='nelder-mead', options={'xatol': 1e-8, 'disp': True})\n",
    "res"
   ]
  },
  {
   "cell_type": "code",
   "execution_count": 4,
   "id": "d132ec3b",
   "metadata": {},
   "outputs": [
    {
     "name": "stdout",
     "output_type": "stream",
     "text": [
      "[1.00000003 0.5       ]\n"
     ]
    }
   ],
   "source": [
    "# Оптимальное решение\n",
    "print(res.x)"
   ]
  },
  {
   "cell_type": "markdown",
   "id": "a9be8647",
   "metadata": {},
   "source": [
    "## Broyden-Fletcher-Goldfarb-Shanno algorithm\n",
    "Дла алгоритма нужно задать и целевую функцию, и её градиент\n",
    "\n",
    "Рассмотрим задачу\n",
    "$$\n",
    "    (loc)\\max(10+2x-2y-4x^2-y^2+2xy)\n",
    "$$\n",
    "**Важно**: т.к. метод `minimize` решает только задачу минимизации, будем решать задачу\n",
    "\\begin{align*}\n",
    "    (loc)\\min\\; & g & g&=-f=(-10-2x+2y+4x^2+y^2-2xy)\n",
    "\\end{align*}\n",
    "\n",
    "Градиент \n",
    "$$\n",
    "    \\nabla g=\\begin{pmatrix} -2+8x-2y\\\\ 2+2y-2x \\end{pmatrix}\n",
    "$$\n"
   ]
  },
  {
   "cell_type": "code",
   "execution_count": 5,
   "id": "383ffb16",
   "metadata": {},
   "outputs": [],
   "source": [
    "def g(x):\n",
    "    return -10-2*x[0]+2*x[1]+4*x[0]**2+x[1]**2-2*x[0]*x[1]\n",
    "def grad_g(x):\n",
    "    g_x = -2+8*x[0]-2*x[1]\n",
    "    g_y = 2+2*x[1]-2*x[0]\n",
    "    return np.array([g_x, g_y])"
   ]
  },
  {
   "cell_type": "code",
   "execution_count": 6,
   "id": "1555e413",
   "metadata": {},
   "outputs": [
    {
     "name": "stdout",
     "output_type": "stream",
     "text": [
      "Optimization terminated successfully.\n",
      "         Current function value: -11.000000\n",
      "         Iterations: 4\n",
      "         Function evaluations: 5\n",
      "         Gradient evaluations: 5\n"
     ]
    },
    {
     "data": {
      "text/plain": [
       "  message: Optimization terminated successfully.\n",
       "  success: True\n",
       "   status: 0\n",
       "      fun: -10.999999999992\n",
       "        x: [-1.433e-06 -1.000e+00]\n",
       "      nit: 4\n",
       "      jac: [-5.882e-06 -2.714e-06]\n",
       " hess_inv: [[ 1.672e-01  1.677e-01]\n",
       "            [ 1.677e-01  6.686e-01]]\n",
       "     nfev: 5\n",
       "     njev: 5"
      ]
     },
     "execution_count": 6,
     "metadata": {},
     "output_type": "execute_result"
    }
   ],
   "source": [
    "x0 = np.array([1, 1])\n",
    "res = minimize(g, x0, method='BFGS', jac=grad_g, options={'xrtol': 1e-8,'disp': True})\n",
    "res"
   ]
  },
  {
   "cell_type": "markdown",
   "id": "e31f7de4",
   "metadata": {},
   "source": [
    "## Newton-Conjugate-Gradient algorithm\n",
    "Для алгоритма нужно задать целевую функцию, её градиент и гессиан\n",
    "\n",
    "Рассмотрим задачу\n",
    "$$\n",
    "    (loc)\\min (4x^2+y^2-4xy-4x-6y+10)\n",
    "$$\n",
    "Для целевой функции $h(x,y)=4x^2+y^2-2xy-4x-6y+10$ имеем\n",
    "\\begin{align*}\n",
    "    \\nabla h&=\\begin{pmatrix} 8x-2y-4 \\\\ 2y-2x-6 \\end{pmatrix} &\n",
    "    \\nabla^2 h&= \\begin{pmatrix} 8 & -2 \\\\ -2 & 2 \\end{pmatrix}\n",
    "\\end{align*}"
   ]
  },
  {
   "cell_type": "code",
   "execution_count": 7,
   "id": "b33fb969",
   "metadata": {},
   "outputs": [],
   "source": [
    "def h(x):\n",
    "    return 4*x[0]**2+x[1]**2-2*x[0]*x[1]-4*x[0]-6*x[1]+10\n",
    "def grad_h(x):\n",
    "    h_x = 8*x[0]-2*x[1]-4\n",
    "    h_y = 2*x[1]-2*x[0]-6\n",
    "    return np.array([h_x, h_y])\n",
    "def hess_h(x):\n",
    "    return np.array([[8, -2], [-2, 2]])"
   ]
  },
  {
   "cell_type": "code",
   "execution_count": 8,
   "id": "a5357d95",
   "metadata": {},
   "outputs": [
    {
     "name": "stdout",
     "output_type": "stream",
     "text": [
      "Optimization terminated successfully.\n",
      "         Current function value: -7.333333\n",
      "         Iterations: 2\n",
      "         Function evaluations: 2\n",
      "         Gradient evaluations: 2\n",
      "         Hessian evaluations: 2\n"
     ]
    },
    {
     "data": {
      "text/plain": [
       " message: Optimization terminated successfully.\n",
       " success: True\n",
       "  status: 0\n",
       "     fun: -7.333333333333336\n",
       "       x: [ 1.667e+00  4.667e+00]\n",
       "     nit: 2\n",
       "     jac: [ 3.553e-15 -1.776e-15]\n",
       "    nfev: 2\n",
       "    njev: 2\n",
       "    nhev: 2"
      ]
     },
     "execution_count": 8,
     "metadata": {},
     "output_type": "execute_result"
    }
   ],
   "source": [
    "x0 = np.array([1, 1])\n",
    "res = minimize(h, x0, method='Newton-CG', jac=grad_h, hess=hess_h, options={'xtol': 1e-8, 'disp': True})\n",
    "res"
   ]
  }
 ],
 "metadata": {
  "kernelspec": {
   "display_name": "Python 3 (ipykernel)",
   "language": "python",
   "name": "python3"
  },
  "language_info": {
   "codemirror_mode": {
    "name": "ipython",
    "version": 3
   },
   "file_extension": ".py",
   "mimetype": "text/x-python",
   "name": "python",
   "nbconvert_exporter": "python",
   "pygments_lexer": "ipython3",
   "version": "3.10.12"
  }
 },
 "nbformat": 4,
 "nbformat_minor": 5
}
