{
 "cells": [
  {
   "cell_type": "markdown",
   "id": "d3dfdd5b",
   "metadata": {
    "tags": []
   },
   "source": [
    "# Безусловная оптимизация\n",
    "Для численного решения задачи \n",
    "\n",
    "$$(loc)\\min f(x)$$\n",
    "\n",
    "используем метод `minimize` из пакета `scipy` ([Документация)](https://docs.scipy.org/doc/scipy/tutorial/optimize.html#unconstrained-minimization-of-multivariate-scalar-functions-minimize))"
   ]
  },
  {
   "cell_type": "code",
   "execution_count": null,
   "id": "3502fdc6",
   "metadata": {
    "tags": []
   },
   "outputs": [],
   "source": [
    "import numpy as np\n",
    "from scipy.optimize import minimize"
   ]
  },
  {
   "cell_type": "markdown",
   "id": "68fedde3",
   "metadata": {},
   "source": [
    "## Nelder-Mead Simplex algorithm\n",
    "Для алгоритма необходимо только определить целевую функцию\n",
    "\n",
    "Рассмотрим задачу\n",
    "\n",
    "$$(loc) \\min (x^2+4y^2-2x-4y+10)$$\n",
    "\n",
    "Зададим целевую функцию, выберем начальное приближение $x_0=(1, 1)$, точность $1*10^{-8}$ (`tol`) и вызовем метод `minimize`"
   ]
  },
  {
   "cell_type": "code",
   "execution_count": null,
   "id": "4e204e9f",
   "metadata": {
    "tags": []
   },
   "outputs": [],
   "source": [
    "def f(x):\n",
    "    return x[0]**2+4*x[1]**2-2*x[0]-4*x[1]+10\n",
    "\n",
    "x0 = np.array([1, 1])\n",
    "\n",
    "res = minimize(f, x0, method='nelder-mead', tol=1e-8)\n",
    "res"
   ]
  },
  {
   "cell_type": "code",
   "execution_count": null,
   "id": "d132ec3b",
   "metadata": {
    "tags": []
   },
   "outputs": [],
   "source": [
    "# Оптимальное решение\n",
    "print(res.x)"
   ]
  },
  {
   "cell_type": "markdown",
   "id": "a9be8647",
   "metadata": {},
   "source": [
    "## Broyden-Fletcher-Goldfarb-Shanno algorithm\n",
    "Дла алгоритма нужно задать и целевую функцию, и её градиент\n",
    "\n",
    "Рассмотрим задачу\n",
    "\n",
    "$$\n",
    "    (loc)\\max(10+2x-2y-4x^2-y^2+2xy)\n",
    "$$\n",
    "\n",
    "**Важно**: т.к. метод `minimize` решает только задачу минимизации, будем решать задачу\n",
    "\n",
    "$$\n",
    "\\begin{aligned}\n",
    "    (loc)\\min\\; & f & f&=-(10+2x-2y-4x^2-y^2+2xy)=-10-2x+2y+4x^2+y^2-2xy\n",
    "\\end{aligned}\n",
    "$$\n",
    "\n",
    "Градиент \n",
    "\n",
    "$$\n",
    "    \\nabla f=\\begin{pmatrix} -2+8x-2y\\\\ 2+2y-2x \\end{pmatrix}\n",
    "$$\n",
    "\n",
    "Зададим целевую функцию, её градиент, выберем начальное приближение $x_0=(1, 1)$, точность $1*10^{-8}$ (`tol`) и вызовем метод `minimize`"
   ]
  },
  {
   "cell_type": "code",
   "execution_count": null,
   "id": "383ffb16",
   "metadata": {},
   "outputs": [],
   "source": [
    "def f(x):\n",
    "    return -10-2*x[0]+2*x[1]+4*x[0]**2+x[1]**2-2*x[0]*x[1]\n",
    "def grad_f(x):\n",
    "    f_x = -2+8*x[0]-2*x[1]\n",
    "    f_y = 2+2*x[1]-2*x[0]\n",
    "    return np.array([f_x, f_y])\n",
    "\n",
    "x0 = np.array([1, 1])\n",
    "res = minimize(f, x0, method='BFGS', jac=grad_f, tol=1e-8)\n",
    "res"
   ]
  },
  {
   "cell_type": "markdown",
   "id": "e31f7de4",
   "metadata": {},
   "source": [
    "## Newton-Conjugate-Gradient algorithm\n",
    "Для алгоритма нужно задать целевую функцию, её градиент и гессиан\n",
    "\n",
    "Рассмотрим задачу\n",
    "\n",
    "$$\n",
    "    (loc)\\min (4x^2+y^2-4xy-4x-6y+10)\n",
    "$$\n",
    "\n",
    "Для целевой функции $f(x,y)=4x^2+y^2-2xy-4x-6y+10$ имеем\n",
    "\n",
    "$$\n",
    "\\begin{aligned}\n",
    "    \\nabla f&=\\begin{pmatrix} 8x-2y-4 \\\\ 2y-2x-6 \\end{pmatrix} &\n",
    "    \\nabla^2 f&= \\begin{pmatrix} 8 & -2 \\\\ -2 & 2 \\end{pmatrix}\n",
    "\\end{aligned}\n",
    "$$\n",
    "\n",
    "Зададим целевую функцию, её градиент и гессиан, выберем начальное приближение $x_0=(1, 1)$, точность $1*10^{-8}$ (`tol`) и вызовем метод `minimize`"
   ]
  },
  {
   "cell_type": "code",
   "execution_count": null,
   "id": "b33fb969",
   "metadata": {
    "tags": []
   },
   "outputs": [],
   "source": [
    "def f(x):\n",
    "    return 4*x[0]**2+x[1]**2-2*x[0]*x[1]-4*x[0]-6*x[1]+10\n",
    "def grad_f(x):\n",
    "    f_x = 8*x[0]-2*x[1]-4\n",
    "    f_y = 2*x[1]-2*x[0]-6\n",
    "    return np.array([f_x, f_y])\n",
    "def hess_f(x):\n",
    "    return np.array([[8, -2], [-2, 2]])\n",
    "\n",
    "x0 = np.array([1, 1])\n",
    "res = minimize(f, x0, method='Newton-CG', jac=grad_f, hess=hess_f, tol=1e-9)\n",
    "res"
   ]
  }
 ],
 "metadata": {
  "kernelspec": {
   "display_name": "Python 3 (ipykernel)",
   "language": "python",
   "name": "python3"
  },
  "language_info": {
   "codemirror_mode": {
    "name": "ipython",
    "version": 3
   },
   "file_extension": ".py",
   "mimetype": "text/x-python",
   "name": "python",
   "nbconvert_exporter": "python",
   "pygments_lexer": "ipython3",
   "version": "3.12.5"
  }
 },
 "nbformat": 4,
 "nbformat_minor": 5
}
