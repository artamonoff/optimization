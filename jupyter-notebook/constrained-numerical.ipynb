{
 "cells": [
  {
   "cell_type": "markdown",
   "id": "46c04748",
   "metadata": {},
   "source": [
    "# Оптимизация с ограничениями равенства\n",
    "Для численного решения задачи \n",
    "\\begin{gather*}\n",
    "    (loc)\\min f(x) \\\\\n",
    "    s.t.\\left\\{\\begin{aligned} g_j(x)&=0 \\\\ h_l(x)&\\geq0 \\\\ a \\leq x&\\leq b\n",
    "    \\end{aligned}\\right.\n",
    "\\end{gather*}\n",
    "используем метод `minimize` из пакета `scipy` ([Документация](https://docs.scipy.org/doc/scipy/tutorial/optimize.html#sequential-least-squares-programming-slsqp-algorithm-method-slsqp))"
   ]
  },
  {
   "cell_type": "code",
   "execution_count": null,
   "id": "45fccfb6",
   "metadata": {
    "tags": []
   },
   "outputs": [],
   "source": [
    "import numpy as np\n",
    "from scipy.optimize import minimize, Bounds"
   ]
  },
  {
   "cell_type": "markdown",
   "id": "864bbb97",
   "metadata": {},
   "source": [
    "## Пример 1 (min, одно ограчение)\n",
    "\\begin{gather*}\n",
    "\t\t\\min(2x+3y) \\\\ s.t.\\; 2x^2+y^2=11 \n",
    "\\end{gather*}\n",
    "Тогда:\n",
    "- $f(x_0,x_1)=2x_0+3x_1$\n",
    "- градиент $f$ $$\\nabla f(x_0,x_1)=\\begin{pmatrix} 2 \\\\ 3 \\end{pmatrix}$$\n",
    "- $g(x_0,x_1)=2x_0^2+x_1^2-11$\n",
    "- матрица производных ограничения (якобиан, градиент) $$\\nabla g(x_0,x_1)=\\begin{pmatrix} 4x_0 \\\\ 2x_1 \\end{pmatrix}$$\n",
    "- $a=-\\infty$, $b=+\\infty$\n",
    "\n",
    "Зададим начальное приближение $x_0=(1, 1)$ и точность $1*10^{-9}$ (`ftol`)"
   ]
  },
  {
   "cell_type": "code",
   "execution_count": null,
   "id": "04ffb21d",
   "metadata": {},
   "outputs": [],
   "source": [
    "# Целевая функция f(x) и её градиент\n",
    "def f(x):\n",
    "    return 2*x[0]+3*x[1]\n",
    "def grad_f(x):\n",
    "    return np.array([2, 3])\n",
    "\n",
    "# ограничения равенства задаём в виде словаря\n",
    "constr = {'type': 'eq', \n",
    "          'fun': lambda x: 2*x[0]**2+x[1]**2-11, \n",
    "          'jac': lambda x: np.array([4*x[0], 2*x[1]]) }\n",
    "\n",
    "# Граничные значения для x\n",
    "bounds = Bounds([-np.inf, -np.inf], [np.inf, np.inf])\n",
    "\n",
    "# Начальное приближение\n",
    "x0 = np.array([1, 1])\n",
    "\n",
    "res = minimize(f, x0, method='SLSQP', jac=grad_f, constraints=[constr], options={'ftol': 1e-9, 'disp': True}, \n",
    "               bounds=bounds)\n",
    "print(res)"
   ]
  },
  {
   "cell_type": "code",
   "execution_count": null,
   "id": "9e98ebf5-9514-4c35-af53-db5b606db496",
   "metadata": {},
   "outputs": [],
   "source": [
    "# Ответ с округление\n",
    "res.x.round(3)"
   ]
  },
  {
   "cell_type": "markdown",
   "id": "8a9ea743",
   "metadata": {},
   "source": [
    "## Пример 2 (max, одно ограчение)\n",
    "\\begin{gather*}\n",
    "\t\t\\max(y^2-2x^2) \\\\ s.t.\\;4x+3y=5\n",
    "\\end{gather*}\n",
    "Тогда:\n",
    "- $f(x_0,x_1)=2x_0^2-x_1^2$\n",
    "- градиент $f$ $$\\nabla f(x_0,x_1)=\\begin{pmatrix} 4x_0 \\\\ -2x_1 \\end{pmatrix}$$\n",
    "- $g(x_0,x_1)=4x_0+3x_1-5$\n",
    "- матрица производных ограничения (якобиан, градиент) $$\\nabla g(x_0,x_1)=\\begin{pmatrix} 4 \\\\ 3 \\end{pmatrix}$$\n",
    "- $a=-\\infty$, $b=+\\infty$\n",
    "\n",
    "Зададим начальное приближение $x_0=(1, 1)$ и точность $1*10^{-9}$ (`ftol`)"
   ]
  },
  {
   "cell_type": "code",
   "execution_count": null,
   "id": "ce5ff9e8",
   "metadata": {},
   "outputs": [],
   "source": [
    "# Целевая функция f(x) и её градиент\n",
    "def f(x):\n",
    "    return 2*x[0]**2-x[1]**2\n",
    "def grad_f(x):\n",
    "    return np.array([4*x[0], -2*x[1]])\n",
    "\n",
    "# ограничения равенства задаём в виде словаря\n",
    "constr = {'type': 'eq', \n",
    "          'fun': lambda x: 4*x[0]+3*x[1]-5,\n",
    "          'jac': lambda x: np.array([4, 3]) }\n",
    "\n",
    "# Граничные значения для x\n",
    "bounds = Bounds([-np.inf, -np.inf], [np.inf, np.inf])\n",
    "\n",
    "# Начальное приближение\n",
    "x0 = np.array([1, 1])\n",
    "\n",
    "res = minimize(f, x0, method='SLSQP', jac=grad_f, constraints=[constr], options={'ftol': 1e-9, 'disp': True}, \n",
    "               bounds=bounds)\n",
    "print(res)"
   ]
  },
  {
   "cell_type": "code",
   "execution_count": null,
   "id": "9d4ff746-e0dd-445d-97b3-d213d1f3dc39",
   "metadata": {},
   "outputs": [],
   "source": [
    "# Ответ с округление\n",
    "res.x.round(3)"
   ]
  },
  {
   "cell_type": "markdown",
   "id": "181de30d-e5b4-43d3-9cc5-c6036007f7bd",
   "metadata": {},
   "source": [
    "## Пример 3 (max, два ограничения)\n",
    "\\begin{gather*}\n",
    "\t\t\\max(2x-y+z) \\\\ s.t.\\left\\{\\begin{aligned} x+y-z&=0 \\\\ x^2+2y^2+2z^2&=25\\end{aligned}\\right.\n",
    "\\end{gather*}\n",
    "Тогда:\n",
    "- $f(x_0,x_1,x_2)=-2x_0+x_1-x_3$\n",
    "- градиент $f$ $$\\nabla f(x_0,x_1,x_2)=\\begin{pmatrix} -2 \\\\ 1 \\\\ -1 \\end{pmatrix}$$\n",
    "- первое ограничение $g_1(x_0,x_1,x_2)=x_0+x_1-x_2$\n",
    "- матрица производных первого ограничения (якобиан, градиент) $$\\nabla g_1(x_0,x_1,x_2)=\\begin{pmatrix} 1 \\\\ 1 \\\\ -1 \\end{pmatrix}$$\n",
    "- второе ограничение $g_2(x_0,x_1,x_2)=x_0^2+2x_1^2+2x_2^2-25$\n",
    "- матрица производных второго ограничения (якобиан, градиент) $$\\nabla g_2(x_0,x_1,x_2)=\\begin{pmatrix} 2x_0 \\\\ 4x_1 \\\\ 4x_2 \\end{pmatrix}$$\n",
    "- $a=-\\infty$, $b=+\\infty$\n",
    "\n",
    "Зададим начальное приближение $x_0=(1, 1, 1)$ и точность $1*10^{-9}$ (`ftol`)"
   ]
  },
  {
   "cell_type": "code",
   "execution_count": null,
   "id": "c7b08807-429c-4616-b53e-40b19fc46d3a",
   "metadata": {
    "tags": []
   },
   "outputs": [],
   "source": [
    "# Целевая функция f(x) и её градиент\n",
    "def f(x):\n",
    "    return -2*x[0]+x[1]-x[2]\n",
    "def grad_f(x):\n",
    "    return np.array([-2, 1, -1])\n",
    "\n",
    "# ограничения равенства задаём в виде словаря\n",
    "constr1 = {'type': 'eq', \n",
    "              'fun': lambda x: x[0]+x[1]-x[2], \n",
    "              'jac': lambda x: np.array([1, 1, -1]) }\n",
    "\n",
    "constr2 = {'type': 'eq',\n",
    "           'fun': lambda x: x[0]**2+2*x[1]**2+2*x[2]**2-25,\n",
    "           'jac': lambda x: np.array([2*x[0], 4*x[1], 4*x[2]]) }\n",
    "\n",
    "# Граничные значения для x\n",
    "bounds = Bounds([-np.inf, -np.inf, -np.inf], [np.inf, np.inf, np.inf])\n",
    "\n",
    "# Начальное приближение\n",
    "x0 = np.array([1, 1, 1])\n",
    "\n",
    "res = minimize(f, x0, method='SLSQP', jac=grad_f, constraints=[constr1, constr2], options={'ftol': 1e-9, 'disp': True}, \n",
    "               bounds=bounds)\n",
    "print(res)"
   ]
  },
  {
   "cell_type": "code",
   "execution_count": null,
   "id": "a49c94b0-6ffc-4606-8480-848b912a75e0",
   "metadata": {
    "tags": []
   },
   "outputs": [],
   "source": [
    "# Ответ с округление\n",
    "res.x.round(3)"
   ]
  },
  {
   "cell_type": "code",
   "execution_count": null,
   "id": "918577a9-b36a-4805-a26d-269fd8da7351",
   "metadata": {},
   "outputs": [],
   "source": []
  }
 ],
 "metadata": {
  "kernelspec": {
   "display_name": "Python 3 (ipykernel)",
   "language": "python",
   "name": "python3"
  },
  "language_info": {
   "codemirror_mode": {
    "name": "ipython",
    "version": 3
   },
   "file_extension": ".py",
   "mimetype": "text/x-python",
   "name": "python",
   "nbconvert_exporter": "python",
   "pygments_lexer": "ipython3",
   "version": "3.11.5"
  }
 },
 "nbformat": 4,
 "nbformat_minor": 5
}
