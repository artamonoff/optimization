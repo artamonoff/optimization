{
 "cells": [
  {
   "cell_type": "markdown",
   "id": "46c04748",
   "metadata": {},
   "source": [
    "# Оптимизация сограничениями равенства\n",
    "Для численного решения задачи \n",
    "\\begin{gather}\n",
    "    (loc)\\min f(x) \\\\\n",
    "    s.t.\\left\\{\\begin{aligned} g_j(x)&=0 \\\\ h_l(x)&\\geq0 \\\\ a \\leq x&\\leq b\n",
    "    \\end{aligned}\\right.\n",
    "\\end{gather}\n",
    "используем метод `minimize` из пакета `scipy` ([Документация](https://docs.scipy.org/doc/scipy/tutorial/optimize.html#sequential-least-squares-programming-slsqp-algorithm-method-slsqp))"
   ]
  },
  {
   "cell_type": "code",
   "execution_count": 1,
   "id": "45fccfb6",
   "metadata": {
    "tags": []
   },
   "outputs": [],
   "source": [
    "import numpy as np\n",
    "from scipy.optimize import minimize, Bounds"
   ]
  },
  {
   "cell_type": "markdown",
   "id": "864bbb97",
   "metadata": {},
   "source": [
    "## Пример 1\n",
    "\\begin{gather}\n",
    "\t\t\\min(2x+3y) \\\\ s.t.\\; 2x^2+y^2=11 \n",
    "\\end{gather}\n",
    "Тогда:\n",
    "- $f(x_0,x_1)=2x_0+3x_1$\n",
    "- градиент $f$ $$\\nabla f(x_0,x_1)=\\begin{pmatrix} 2 \\\\ 3 \\end{pmatrix}$$\n",
    "- $g(x_0,x_1)=2x_0^2+x_1^2-11$\n",
    "- матрица производных ограничения (якобиан, градиент) $$\\nabla g(x_0,x_1)=\\begin{pmatrix} 4x_0 \\\\ 2x_1 \\end{pmatrix}$$\n",
    "- $a=-\\infty$, $b=+\\infty$"
   ]
  },
  {
   "cell_type": "code",
   "execution_count": 2,
   "id": "04ffb21d",
   "metadata": {},
   "outputs": [
    {
     "name": "stdout",
     "output_type": "stream",
     "text": [
      "Optimization terminated successfully    (Exit mode 0)\n",
      "            Current function value: -11.000000000000025\n",
      "            Iterations: 14\n",
      "            Function evaluations: 21\n",
      "            Gradient evaluations: 14\n",
      " message: Optimization terminated successfully\n",
      " success: True\n",
      "  status: 0\n",
      "     fun: -11.000000000000025\n",
      "       x: [-1.000e+00 -3.000e+00]\n",
      "     nit: 14\n",
      "     jac: [ 2.000e+00  3.000e+00]\n",
      "    nfev: 21\n",
      "    njev: 14\n"
     ]
    }
   ],
   "source": [
    "# Целевая функция f(x) и её градиент\n",
    "def f(x):\n",
    "    return 2*x[0]+3*x[1]\n",
    "def grad_f(x):\n",
    "    return np.array([2, 3])\n",
    "# ограничения равенства задаём в виде словаря\n",
    "eq_consrt = {'type': 'eq', \n",
    "             'fun': lambda x: np.array([2*x[0]**2+x[1]**2-11]), \n",
    "             'jac': lambda x: np.array([4*x[0], 2*x[1]]) }\n",
    "bounds = Bounds([-np.inf, -np.inf], [np.inf, np.inf])\n",
    "# Начальное приближение\n",
    "x0 = np.array([1, 1])\n",
    "\n",
    "res = minimize(f, x0, method='SLSQP', jac=grad_f, constraints=[eq_consrt], options={'ftol': 1e-9, 'disp': True}, \n",
    "               bounds=bounds)\n",
    "print(res)"
   ]
  },
  {
   "cell_type": "markdown",
   "id": "8a9ea743",
   "metadata": {},
   "source": [
    "## Пример 2\n",
    "\\begin{gather}\n",
    "\t\t\\max(y^2-2x^2) \\\\ s.t.\\;4x+3y=5\n",
    "\\end{gather}\n",
    "Тогда:\n",
    "- $f(x_0,x_1)=2x_0^2-x_1^2$\n",
    "- градиент $f$ $$\\nabla f(x_0,x_1)=\\begin{pmatrix} 4x_0 \\\\ -2x_1 \\end{pmatrix}$$\n",
    "- $g(x_0,x_1)=4x_0+3x_1-5$\n",
    "- матрица производных ограничения (якобиан, градиент) $$\\nabla g(x_0,x_1)=\\begin{pmatrix} 4 \\\\ 3 \\end{pmatrix}$$\n",
    "- $a=-\\infty$, $b=+\\infty$"
   ]
  },
  {
   "cell_type": "code",
   "execution_count": 3,
   "id": "ce5ff9e8",
   "metadata": {},
   "outputs": [
    {
     "name": "stdout",
     "output_type": "stream",
     "text": [
      "Optimization terminated successfully    (Exit mode 0)\n",
      "            Current function value: -24.99999999999997\n",
      "            Iterations: 4\n",
      "            Function evaluations: 4\n",
      "            Gradient evaluations: 4\n",
      " message: Optimization terminated successfully\n",
      " success: True\n",
      "  status: 0\n",
      "     fun: -24.99999999999997\n",
      "       x: [-1.000e+01  1.500e+01]\n",
      "     nit: 4\n",
      "     jac: [-4.000e+01 -3.000e+01]\n",
      "    nfev: 4\n",
      "    njev: 4\n"
     ]
    }
   ],
   "source": [
    "# Целевая функция f(x) и её градиент\n",
    "def f(x):\n",
    "    return 2*x[0]**2-x[1]**2\n",
    "def grad_f(x):\n",
    "    return np.array([4*x[0], -2*x[1]])\n",
    "# ограничения равенства задаём в виде словаря\n",
    "eq_consrt = {'type': 'eq', \n",
    "             'fun': lambda x: np.array([4*x[0]+3*x[1]-5]), \n",
    "             'jac': lambda x: np.array([4, 3]) }\n",
    "bounds = Bounds([-np.inf, -np.inf], [np.inf, np.inf])\n",
    "# Начальное приближение\n",
    "x0 = np.array([1, 1])\n",
    "\n",
    "res = minimize(f, x0, method='SLSQP', jac=grad_f, constraints=[eq_consrt], options={'ftol': 1e-9, 'disp': True}, \n",
    "               bounds=bounds)\n",
    "print(res)"
   ]
  },
  {
   "cell_type": "code",
   "execution_count": null,
   "id": "be291e25",
   "metadata": {},
   "outputs": [],
   "source": []
  }
 ],
 "metadata": {
  "kernelspec": {
   "display_name": "Python 3 (ipykernel)",
   "language": "python",
   "name": "python3"
  },
  "language_info": {
   "codemirror_mode": {
    "name": "ipython",
    "version": 3
   },
   "file_extension": ".py",
   "mimetype": "text/x-python",
   "name": "python",
   "nbconvert_exporter": "python",
   "pygments_lexer": "ipython3",
   "version": "3.10.13"
  }
 },
 "nbformat": 4,
 "nbformat_minor": 5
}
