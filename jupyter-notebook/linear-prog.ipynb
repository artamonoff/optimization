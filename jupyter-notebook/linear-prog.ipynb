{
 "cells": [
  {
   "cell_type": "markdown",
   "id": "70548cd6-076e-4fe5-a495-06f938d7662d",
   "metadata": {},
   "source": [
    "# Линейное программирование\n",
    "Для численного решения задачи линейного программирования в виде\n",
    "\\begin{gather*}\n",
    "    \\min c^\\top x \\\\ s.t.\\left\\{\\begin{aligned} \n",
    "    A_{ub}x &\\leq b_{ub} \\\\ A_{eq}x &= b_{eq} \\\\ l\\leq x&\\leq u\n",
    "    \\end{aligned}\\right.\n",
    "\\end{gather*}\n",
    "используем метод `linprog` из пакета `scipy.optimize` ([Документация](https://docs.scipy.org/doc/scipy/tutorial/optimize.html#linear-programming-linprog))"
   ]
  },
  {
   "cell_type": "code",
   "execution_count": 1,
   "id": "dbfc7c48-647a-47ff-b0b3-d5df1b22db81",
   "metadata": {},
   "outputs": [],
   "source": [
    "import numpy as np\n",
    "from scipy.optimize import linprog"
   ]
  },
  {
   "cell_type": "markdown",
   "id": "3d11b111-c325-445f-a097-26dfb8397b71",
   "metadata": {},
   "source": [
    "## Пример 1\n",
    "Рассмотрим задачу\n",
    "\\begin{gather*}\n",
    "\t\\max(5x+4y) \\\\\n",
    "\ts.t.\\left\\{\\begin{aligned}\n",
    "    \tx+3y &\\leqslant18 \\\\ x+2y &\\leqslant13 \\\\ \n",
    "\t\t3x+2y &\\leqslant27 \\\\ x,y&\\geqslant0\n",
    "\t\\end{aligned}\\right.\n",
    "\\end{gather*}\n",
    "Перепишем в виде\n",
    "\\begin{gather*}\n",
    "\t\\min(-5x-4y) \\\\\n",
    "\ts.t.\\left\\{\\begin{aligned}\n",
    "    \tx+3y &\\leqslant18 \\\\ x+2y &\\leqslant13 \\\\ \n",
    "\t\t3x+2y &\\leqslant27 \\\\ 0&\\leqslant x,y\n",
    "\t\\end{aligned}\\right.\n",
    "\\end{gather*}\n",
    "Тогда\n",
    "\\begin{align*}\n",
    "    c&=\\begin{pmatrix} -5 \\\\ -4 \\end{pmatrix} &\n",
    "    A=A_{ub}&=\\begin{pmatrix} 1 & 3 \\\\ 1 & 2 \\\\ 3 & 2 \\end{pmatrix} &\n",
    "    b=b_{ub}&=\\begin{pmatrix} 18 \\\\ 13 \\\\ 27 \\end{pmatrix}\n",
    "\\end{align*}"
   ]
  },
  {
   "cell_type": "code",
   "execution_count": 3,
   "id": "8cc07467-b3ec-4a6d-bb73-06e605656cd6",
   "metadata": {},
   "outputs": [
    {
     "data": {
      "text/plain": [
       "        message: Optimization terminated successfully. (HiGHS Status 7: Optimal)\n",
       "        success: True\n",
       "         status: 0\n",
       "            fun: -47.0\n",
       "              x: [ 7.000e+00  3.000e+00]\n",
       "            nit: 3\n",
       "          lower:  residual: [ 7.000e+00  3.000e+00]\n",
       "                 marginals: [ 0.000e+00  0.000e+00]\n",
       "          upper:  residual: [       inf        inf]\n",
       "                 marginals: [ 0.000e+00  0.000e+00]\n",
       "          eqlin:  residual: []\n",
       "                 marginals: []\n",
       "        ineqlin:  residual: [ 2.000e+00  0.000e+00  0.000e+00]\n",
       "                 marginals: [-0.000e+00 -5.000e-01 -1.500e+00]\n",
       " mip_node_count: 0\n",
       " mip_dual_bound: 0.0\n",
       "        mip_gap: 0.0"
      ]
     },
     "execution_count": 3,
     "metadata": {},
     "output_type": "execute_result"
    }
   ],
   "source": [
    "# вектрор целевой функции\n",
    "c = np.array([-5, -4])\n",
    "# матрица A\n",
    "A = np.array([ [1, 3], [1, 2], [3, 2] ])\n",
    "# вектор b\n",
    "b = np.array([18, 13, 27])\n",
    "# границы для переменных: нижняя 0, верхняя отсутствует (None)\n",
    "x_bounds = [(0, None), (0, None)]\n",
    "\n",
    "res = linprog(c, A_ub=A, b_ub=b, bounds=x_bounds)\n",
    "\n",
    "res"
   ]
  },
  {
   "cell_type": "code",
   "execution_count": 6,
   "id": "fe86bcf1-5f70-45d7-b469-697d32137cf4",
   "metadata": {},
   "outputs": [
    {
     "data": {
      "text/plain": [
       "array([7., 3.])"
      ]
     },
     "execution_count": 6,
     "metadata": {},
     "output_type": "execute_result"
    }
   ],
   "source": [
    "# решение с округлением\n",
    "res.x.round(3)"
   ]
  },
  {
   "cell_type": "code",
   "execution_count": 7,
   "id": "1e0b6c70-936c-4edc-b49c-7b04000f2951",
   "metadata": {},
   "outputs": [
    {
     "data": {
      "text/plain": [
       "-47.0"
      ]
     },
     "execution_count": 7,
     "metadata": {},
     "output_type": "execute_result"
    }
   ],
   "source": [
    "# значение целевой функции\n",
    "res.fun"
   ]
  },
  {
   "cell_type": "markdown",
   "id": "f7c76a2a-52e8-4d8c-a496-316b7afec104",
   "metadata": {},
   "source": [
    "## Пример 2\n",
    "Рассморим задачу\n",
    "\\begin{gather*}\n",
    "\t\\min(2x+5y) \\\\\n",
    "\ts.t.\\left\\{\\begin{aligned}\n",
    "\t\t3x+y &\\geqslant 10 \\\\ 2x+y &\\geqslant 8 \\\\ \n",
    "\t\tx+3y &\\geqslant 9 \\\\ x+6y &\\geqslant 12 \\\\ x,y&\\geqslant0\n",
    "\t\\end{aligned}\\right.\n",
    "\\end{gather*}\n",
    "Перепишем в виде\n",
    "\\begin{gather*}\n",
    "\t\\min(2x+5y) \\\\\n",
    "\ts.t.\\left\\{\\begin{aligned}\n",
    "\t\t-3x-y &\\leqslant -10 \\\\ -2x-y &\\leqslant -8 \\\\ \n",
    "\t\t-x-3y &\\leqslant -9 \\\\ -x-6y &\\leqslant -12 \\\\ 0& \\leqslant x,y\n",
    "\t\\end{aligned}\\right.\n",
    "\\end{gather*}\n",
    "Тогда\n",
    "\\begin{align*}\n",
    "    c&=\\begin{pmatrix} 2 \\\\ 5 \\end{pmatrix} &\n",
    "    A=A_{ub}&=\\begin{pmatrix} -3 & -1 \\\\ -2 & -1 \\\\ -1 & -3 \\\\ -1 & -6 \\end{pmatrix} &\n",
    "    b=b_{ub}&=\\begin{pmatrix} -10 \\\\ -8 \\\\ -9 \\\\ -12 \\end{pmatrix}\n",
    "\\end{align*}"
   ]
  },
  {
   "cell_type": "code",
   "execution_count": 8,
   "id": "69a68a9d-980b-45d6-9685-5a228c4c67d7",
   "metadata": {},
   "outputs": [
    {
     "data": {
      "text/plain": [
       "        message: Optimization terminated successfully. (HiGHS Status 7: Optimal)\n",
       "        success: True\n",
       "         status: 0\n",
       "            fun: 16.0\n",
       "              x: [ 3.000e+00  2.000e+00]\n",
       "            nit: 3\n",
       "          lower:  residual: [ 3.000e+00  2.000e+00]\n",
       "                 marginals: [ 0.000e+00  0.000e+00]\n",
       "          upper:  residual: [       inf        inf]\n",
       "                 marginals: [ 0.000e+00  0.000e+00]\n",
       "          eqlin:  residual: []\n",
       "                 marginals: []\n",
       "        ineqlin:  residual: [ 1.000e+00  0.000e+00  0.000e+00  3.000e+00]\n",
       "                 marginals: [-0.000e+00 -2.000e-01 -1.600e+00 -0.000e+00]\n",
       " mip_node_count: 0\n",
       " mip_dual_bound: 0.0\n",
       "        mip_gap: 0.0"
      ]
     },
     "execution_count": 8,
     "metadata": {},
     "output_type": "execute_result"
    }
   ],
   "source": [
    "# вектрор целевой функции\n",
    "c = np.array([2, 5])\n",
    "# матрица A\n",
    "A = np.array([ [-3, -1], [-2, -1], [-1, -3], [-1, -6] ])\n",
    "# вектор b\n",
    "b = np.array([-10, -8, -9, -12])\n",
    "# границы для переменных: нижняя 0, верхняя отсутствует (None)\n",
    "x_bounds = [(0, None), (0, None)]\n",
    "\n",
    "res = linprog(c, A_ub=A, b_ub=b, bounds=x_bounds)\n",
    "\n",
    "res"
   ]
  },
  {
   "cell_type": "code",
   "execution_count": 9,
   "id": "1243417c-02ca-4538-acb1-be4830a5e08c",
   "metadata": {},
   "outputs": [
    {
     "data": {
      "text/plain": [
       "array([3., 2.])"
      ]
     },
     "execution_count": 9,
     "metadata": {},
     "output_type": "execute_result"
    }
   ],
   "source": [
    "# решение с округлением\n",
    "res.x.round(3)"
   ]
  },
  {
   "cell_type": "code",
   "execution_count": 10,
   "id": "ca01e557-855b-4b26-a515-43ad44ec2cbb",
   "metadata": {},
   "outputs": [
    {
     "data": {
      "text/plain": [
       "16.0"
      ]
     },
     "execution_count": 10,
     "metadata": {},
     "output_type": "execute_result"
    }
   ],
   "source": [
    "# значение целевой функции\n",
    "res.fun"
   ]
  },
  {
   "cell_type": "code",
   "execution_count": null,
   "id": "6f2ebbfd-5feb-457a-aaea-33c5343fd36a",
   "metadata": {},
   "outputs": [],
   "source": []
  }
 ],
 "metadata": {
  "kernelspec": {
   "display_name": "Python 3 (ipykernel)",
   "language": "python",
   "name": "python3"
  },
  "language_info": {
   "codemirror_mode": {
    "name": "ipython",
    "version": 3
   },
   "file_extension": ".py",
   "mimetype": "text/x-python",
   "name": "python",
   "nbconvert_exporter": "python",
   "pygments_lexer": "ipython3",
   "version": "3.11.5"
  }
 },
 "nbformat": 4,
 "nbformat_minor": 5
}
