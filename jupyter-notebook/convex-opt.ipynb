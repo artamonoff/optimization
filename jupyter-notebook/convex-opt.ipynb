{
 "cells": [
  {
   "cell_type": "markdown",
   "id": "3212bd3b-bf0d-47a6-85c0-d94b276ab37c",
   "metadata": {},
   "source": [
    "# Оптимизация с ограничениями неравенства\n",
    "Для численного решения задачи \n",
    "\n",
    "$$\n",
    "\\begin{gathered}\n",
    "    (loc)\\min f(x) \\\\\n",
    "    s.t.\\left\\{\\begin{aligned} g_j(x)&=0 \\\\ h_l(x)&\\geq0 \\\\ a \\leq x&\\leq b\n",
    "    \\end{aligned}\\right.\n",
    "\\end{gathered}\n",
    "$$\n",
    "\n",
    "используем метод `minimize` из пакета `scipy` ([Документация](https://docs.scipy.org/doc/scipy/tutorial/optimize.html#sequential-least-squares-programming-slsqp-algorithm-method-slsqp))\n",
    "\n",
    "<div style=\"background-color:Bisque; color:DarkBlue; padding:30px;\">\n",
    "\n",
    "<i><b><span style=\"color: purple\">Замечание</span> </b><br>\n",
    "\n",
    "- по умолчанию ограничение границы для переменных $a=-\\infty,b=+\\infty$ (т.е. не заданы)\n",
    "- границы для переменных задаются через `Bounds`\n",
    "\n",
    "</div>"
   ]
  },
  {
   "cell_type": "code",
   "execution_count": null,
   "id": "537cd064-627c-40e0-b515-5bcdfde77847",
   "metadata": {
    "tags": []
   },
   "outputs": [],
   "source": [
    "import numpy as np\n",
    "from scipy.optimize import minimize, Bounds"
   ]
  },
  {
   "cell_type": "markdown",
   "id": "d648560b-af6d-488d-b117-63ca95e07f34",
   "metadata": {},
   "source": [
    "## Пример 1\n",
    "\n",
    "$$\n",
    "\\begin{gathered}\n",
    "    \\max (x+y-z) \\\\ s.t.\\; 2x^2+2y^2+z^2\\leq 9\n",
    "\\end{gathered}\n",
    "$$\n",
    "\n",
    "Тогда:\n",
    "- целевая функция $f(x_0,x_1)=-x_0-x_1+x_2$\n",
    "- градиент целевой функции \n",
    "\n",
    "$$\\nabla f(x_0,x_1, x_2)=\\begin{pmatrix} -1 \\\\ -1 \\\\ 1 \\end{pmatrix}$$\n",
    "\n",
    "- ограничение $h(x_0,x_1,x_2)=-2x_0^2-2x_1^2-x_2^2+9$\n",
    "- матрица производных ограничения (якобиан, градиент) \n",
    "\n",
    "$$\\nabla h(x_0,x_1,x_2)=\\begin{pmatrix} -4x_0 \\\\ -4x_1 \\\\ -2x_2 \\end{pmatrix}$$\n",
    "\n",
    "Зададим начальное приближение $x_0=(1, 1, 1)$ и точность $1*10^{-9}$ (`tol`)"
   ]
  },
  {
   "cell_type": "code",
   "execution_count": null,
   "id": "bbef96d8-d775-480b-984c-6dd7381b1679",
   "metadata": {
    "tags": []
   },
   "outputs": [],
   "source": [
    "# Целевая функция f(x) и её градиент\n",
    "def f(x):\n",
    "    return -x[0]-x[1]+x[2]\n",
    "def grad_f(x):\n",
    "    return np.array([-1, -1, 1])\n",
    "\n",
    "# ограничения равенства задаём в виде словаря\n",
    "constr = {'type': 'ineq',\n",
    "          'fun': lambda x: -2*x[0]**2-2*x[1]**2-x[2]**2+9,\n",
    "          'jac': lambda x: np.array([-4*x[0], -4*x[1], -2*x[2]]) }\n",
    "\n",
    "# Начальное приближение\n",
    "x0 = np.array([1, 1, 1])\n",
    "\n",
    "res = minimize(f, x0, method='SLSQP', jac=grad_f, constraints=[constr], tol=1e-9)\n",
    "print(res)"
   ]
  },
  {
   "cell_type": "code",
   "execution_count": null,
   "id": "51e7a111-532f-4381-a653-29d9bd1f36d8",
   "metadata": {
    "tags": []
   },
   "outputs": [],
   "source": [
    "#  Ответ с округлением\n",
    "res.x.round(3)"
   ]
  },
  {
   "cell_type": "markdown",
   "id": "37b99aab-c2bb-48ab-bd08-723a3597f34d",
   "metadata": {},
   "source": [
    "## Пример 2 (неотрицательность переменных)\n",
    "\n",
    "$$\n",
    "\\begin{gathered}\n",
    "\t\\max (x+y-z) \\\\ \n",
    "\ts.t.\\left\\{ \\begin{aligned} 2x^2+2y^2+z^2 &\\leq 9 \\\\ x,y,z &\\geq 0 \\end{aligned}\\right.\n",
    "\\end{gathered}\n",
    "$$\n",
    "\n",
    "Тогда:\n",
    "- целевая функция $f(x_0,x_1)=-x_0-x_1+x_2$\n",
    "- градиент целевой функции  \n",
    "\n",
    "$$\\nabla f(x_0,x_1, x_2)=\\begin{pmatrix} -1 \\\\ -1 \\\\ 1 \\end{pmatrix}$$\n",
    "\n",
    "- ограничение $h(x_0,x_1,x_2)=-2x_0^2-2x_1^2-x_2^2+9$\n",
    "- матрица производных ограничения (якобиан, градиент) \n",
    "\n",
    "$$\\nabla h(x_0,x_1,x_2)=\\begin{pmatrix} -4x_0 \\\\ -4x_1 \\\\ -2x_2 \\end{pmatrix}$$\n",
    "\n",
    "- нижняя граница $a=0$ (параметр `lb` в `Bounds`)\n",
    "\n",
    "Зададим начальное приближение $x_0=(1, 1, 1)$ и точность $1*10^{-9}$ (`ftol`)"
   ]
  },
  {
   "cell_type": "code",
   "execution_count": null,
   "id": "df72183e-2042-4e13-9bb3-697d839cffe7",
   "metadata": {
    "tags": []
   },
   "outputs": [],
   "source": [
    "# Целевая функция f(x) и её градиент\n",
    "def f(x):\n",
    "    return -x[0]-x[1]+x[2]\n",
    "def grad_f(x):\n",
    "    return np.array([-1, -1, 1])\n",
    "\n",
    "# ограничения равенства задаём в виде словаря\n",
    "constr = {'type': 'ineq',\n",
    "          'fun': lambda x: -2*x[0]**2-2*x[1]**2-x[2]**2+9,\n",
    "          'jac': lambda x: np.array([-4*x[0], -4*x[1], -2*x[2]]) }\n",
    "\n",
    "# Нижняя граница для (x0, x1, x2)\n",
    "bounds = Bounds(lb=[0, 0, 0])\n",
    "\n",
    "# Начальное приближение\n",
    "x0 = np.array([1, 1, 1])\n",
    "\n",
    "res = minimize(f, x0, method='SLSQP', jac=grad_f, constraints=[constr], tol=1e-9, bounds=bounds)\n",
    "print(res)"
   ]
  },
  {
   "cell_type": "code",
   "execution_count": null,
   "id": "2cc5254e-7a62-459c-aa78-1beb82366b4c",
   "metadata": {
    "tags": []
   },
   "outputs": [],
   "source": [
    "#  Ответ с округлением\n",
    "res.x.round(3)"
   ]
  }
 ],
 "metadata": {
  "kernelspec": {
   "display_name": "Python 3 (ipykernel)",
   "language": "python",
   "name": "python3"
  },
  "language_info": {
   "codemirror_mode": {
    "name": "ipython",
    "version": 3
   },
   "file_extension": ".py",
   "mimetype": "text/x-python",
   "name": "python",
   "nbconvert_exporter": "python",
   "pygments_lexer": "ipython3",
   "version": "3.12.5"
  }
 },
 "nbformat": 4,
 "nbformat_minor": 5
}
