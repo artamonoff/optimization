{
 "cells": [
  {
   "cell_type": "markdown",
   "id": "6a53c4be-1b7f-40e5-bf23-7f18bae0a98d",
   "metadata": {},
   "source": [
    "# Линейное программирование (визуализация)"
   ]
  },
  {
   "cell_type": "code",
   "execution_count": null,
   "id": "5ed99980-d16f-461a-bddb-54a2b1c891ea",
   "metadata": {},
   "outputs": [],
   "source": [
    "import numpy as np\n",
    "import matplotlib.pyplot as plt"
   ]
  },
  {
   "cell_type": "markdown",
   "id": "6a5e8600-3914-41dd-a29a-1c0b8da5cf7f",
   "metadata": {},
   "source": [
    "## Пример 1\n",
    "Рассмотрим задачу\n",
    "\n",
    "$$\n",
    "\t\\max(5x+4y) \\\\\n",
    "\ts.t.\\left\\{\\begin{aligned}\n",
    "    \tx+3y &\\leqslant18 \\\\ x+2y &\\leqslant13 \\\\ \n",
    "\t\t3x+2y &\\leqslant27 \\\\ x,y&\\geqslant0\n",
    "\t\\end{aligned}\\right.\n",
    "$$\n",
    "\n",
    "Визуализация ограничений"
   ]
  },
  {
   "cell_type": "code",
   "execution_count": null,
   "id": "b3a06388-0177-4c60-82b1-94663113940a",
   "metadata": {},
   "outputs": [],
   "source": [
    "# диапазон по x (сетка)\n",
    "x = np.linspace(start=-1, stop=10, num=20)\n",
    "\n",
    "# прямая x+3y=18\n",
    "y = (18-x)/3\n",
    "\n",
    "plt.plot(x,y, label='(1)')\n",
    "\n",
    "# прямая x+2y=13\n",
    "y = (13-x)/2\n",
    "\n",
    "plt.plot(x,y, label='(2)')\n",
    "\n",
    "# прямая 3x+2y=27\n",
    "y = (27-3*x)/2\n",
    "\n",
    "plt.plot(x,y, label='(3)')\n",
    "\n",
    "# оси координат\n",
    "plt.vlines(x=0, ymin=0, ymax=15,  colors='b', linestyles='dotted')\n",
    "plt.hlines(y=0, xmin=0, xmax=10,  colors='b', linestyles='dotted')\n",
    "\n",
    "# Зададим целочисленную сетку по осям\n",
    "plt.xticks(ticks=np.arange(start=-1, stop=11, step=1))\n",
    "plt.yticks(ticks=np.arange(start=-1, stop=16, step=1))\n",
    "plt.grid(linewidth = 0.3)\n",
    "\n",
    "\n",
    "plt.legend(loc=1)\n",
    "plt.show()"
   ]
  },
  {
   "cell_type": "markdown",
   "id": "bd7591bf-3e91-4dd8-9ff0-428b68205518",
   "metadata": {},
   "source": [
    "Финальная область"
   ]
  },
  {
   "cell_type": "code",
   "execution_count": null,
   "id": "8bc4bfcb-8f22-43af-b025-9a92f3eecdda",
   "metadata": {},
   "outputs": [],
   "source": [
    "# прямая x+3y=18\n",
    "x = np.linspace(start=0, stop=3, num=20)\n",
    "y = (18-x)/3\n",
    "\n",
    "plt.plot(x,y, label='(1)')\n",
    "\n",
    "# прямая x+2y=13\n",
    "x = np.linspace(start=3, stop=7, num=20)\n",
    "y = (13-x)/2\n",
    "\n",
    "plt.plot(x,y, label='(2)')\n",
    "\n",
    "# прямая 3x+2y=27\n",
    "x = np.linspace(start=7, stop=9, num=20)\n",
    "y = (27-3*x)/2\n",
    "\n",
    "plt.plot(x,y, label='(3)')\n",
    "\n",
    "# оси координат\n",
    "plt.vlines(x=0, ymin=0, ymax=7,  colors='b', linestyles='dotted')\n",
    "plt.hlines(y=0, xmin=0, xmax=10,  colors='b', linestyles='dotted')\n",
    "\n",
    "# Зададим целочисленную сетку по осям\n",
    "plt.xticks(ticks=np.arange(start=0, stop=11, step=1))\n",
    "plt.yticks(ticks=np.arange(start=0, stop=8, step=1))\n",
    "plt.grid(linewidth = 0.3)\n",
    "\n",
    "plt.legend(loc=1)\n",
    "plt.show()"
   ]
  },
  {
   "cell_type": "markdown",
   "id": "ca6c8ccd-b247-4496-8e10-26bf96c6bd72",
   "metadata": {},
   "source": [
    "## Пример 2\n",
    "Рассморим задачу\n",
    "\n",
    "$$\n",
    "\t\\min(2x+5y) \\\\\n",
    "\ts.t.\\left\\{\\begin{aligned}\n",
    "\t\t3x+y &\\geqslant 10 \\\\ 2x+y &\\geqslant 8 \\\\ \n",
    "\t\tx+3y &\\geqslant 9 \\\\ x+6y &\\geqslant 12 \\\\ x,y&\\geqslant0\n",
    "\t\\end{aligned}\\right.\n",
    "$$"
   ]
  },
  {
   "cell_type": "code",
   "execution_count": null,
   "id": "942da500-26c9-4856-a99d-303b484370e8",
   "metadata": {},
   "outputs": [],
   "source": [
    "# диапазон по x (сетка)\n",
    "x = np.linspace(start=-1, stop=13, num=20)\n",
    "\n",
    "# прямая 3x+y=10\n",
    "y = 10-3*x\n",
    "\n",
    "plt.plot(x,y, label='(1)')\n",
    "\n",
    "# прямая 2x+y=8\n",
    "y = 8-2*x\n",
    "\n",
    "plt.plot(x,y, label='(2)')\n",
    "\n",
    "# прямая x+3y=9\n",
    "y = (9-x)/3\n",
    "\n",
    "plt.plot(x,y, label='(3)')\n",
    "\n",
    "# прямая x+6y=12\n",
    "y = (12-x)/6\n",
    "\n",
    "plt.plot(x,y, label='(4)')\n",
    "\n",
    "# оси координат\n",
    "plt.vlines(x=0, ymin=0, ymax=13,  colors='b', linestyles='dotted')\n",
    "plt.hlines(y=0, xmin=0, xmax=12,  colors='b', linestyles='dotted')\n",
    "\n",
    "# Зададим целочисленную сетку по осям\n",
    "plt.xticks(ticks=np.arange(start=-1, stop=14, step=1))\n",
    "plt.yticks(ticks=np.arange(start=-20, stop=12, step=1))\n",
    "plt.grid(linewidth = 0.3)\n",
    "\n",
    "plt.legend(loc=1)\n",
    "plt.show()"
   ]
  },
  {
   "cell_type": "markdown",
   "id": "d3b68a37-d92a-42a3-82e3-75da222e0f04",
   "metadata": {},
   "source": [
    "Финальная область"
   ]
  },
  {
   "cell_type": "code",
   "execution_count": null,
   "id": "61970222-7474-447c-9669-3da60add8f5d",
   "metadata": {},
   "outputs": [],
   "source": [
    "# прямая 3x+y=10\n",
    "x = np.linspace(start=0, stop=2, num=20)\n",
    "y = 10-3*x\n",
    "\n",
    "plt.plot(x,y, label='(1)')\n",
    "\n",
    "# прямая 2x+y=8\n",
    "x = np.linspace(start=2, stop=3, num=20)\n",
    "y = 8-2*x\n",
    "\n",
    "plt.plot(x,y, label='(2)')\n",
    "\n",
    "# прямая x+3y=9\n",
    "x = np.linspace(start=3, stop=6, num=20)\n",
    "y = (9-x)/3\n",
    "\n",
    "plt.plot(x,y, label='(3)')\n",
    "\n",
    "# прямая x+6y=12\n",
    "x = np.linspace(start=6, stop=12, num=20)\n",
    "y = (12-x)/6\n",
    "\n",
    "plt.plot(x,y, label='(4)')\n",
    "\n",
    "# оси координат\n",
    "plt.vlines(x=0, ymin=0, ymax=12,  colors='b', linestyles='dotted')\n",
    "plt.hlines(y=0, xmin=0, xmax=13,  colors='b', linestyles='dotted')\n",
    "\n",
    "# Зададим целочисленную сетку по осям\n",
    "plt.xticks(ticks=np.arange(start=0, stop=14, step=1))\n",
    "plt.yticks(ticks=np.arange(start=0, stop=13, step=1))\n",
    "plt.grid(linewidth = 0.3)\n",
    "\n",
    "\n",
    "plt.legend(loc=1)\n",
    "plt.show()"
   ]
  }
 ],
 "metadata": {
  "kernelspec": {
   "display_name": "Python 3 (ipykernel)",
   "language": "python",
   "name": "python3"
  },
  "language_info": {
   "codemirror_mode": {
    "name": "ipython",
    "version": 3
   },
   "file_extension": ".py",
   "mimetype": "text/x-python",
   "name": "python",
   "nbconvert_exporter": "python",
   "pygments_lexer": "ipython3",
   "version": "3.11.6"
  }
 },
 "nbformat": 4,
 "nbformat_minor": 5
}
